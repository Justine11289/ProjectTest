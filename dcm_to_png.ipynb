{
 "cells": [
  {
   "cell_type": "code",
   "execution_count": 1,
   "metadata": {},
   "outputs": [],
   "source": [
    "import cv2\n",
    "import os\n",
    "import pydicom"
   ]
  },
  {
   "cell_type": "code",
   "execution_count": 19,
   "metadata": {},
   "outputs": [],
   "source": [
    "path = 'D:/IACTA_test/Original/sub-0017.nii.gz/'\n",
    "test_list = [ f for f in  os.listdir(path)]\n",
    "\n",
    "for f in test_list:\n",
    "    ds = pydicom.read_file(path + f) # read dicom \n",
    "    pname = path.split(\"/\")[-2]# 先用split方法切割路徑，[-1]代表取最後一個元素，也就是檔案名稱\n",
    "    pname = pname[4:-7] # 再用切片方法切掉檔案名稱中的\".nii.gz\"字串\n",
    "    img = ds.pixel_array # get image array\n",
    "    cv2.imwrite(path + pname + '_' + f.replace('.dcm','.png'),img) # write png image\n",
    "    # cv2.imwrite(path + pname + f.replace('.dcm','_mask.png'),img) # write png image"
   ]
  },
  {
   "cell_type": "code",
   "execution_count": null,
   "metadata": {},
   "outputs": [],
   "source": []
  }
 ],
 "metadata": {
  "kernelspec": {
   "display_name": "Python 3",
   "language": "python",
   "name": "python3"
  },
  "language_info": {
   "codemirror_mode": {
    "name": "ipython",
    "version": 3
   },
   "file_extension": ".py",
   "mimetype": "text/x-python",
   "name": "python",
   "nbconvert_exporter": "python",
   "pygments_lexer": "ipython3",
   "version": "3.10.9"
  },
  "orig_nbformat": 4
 },
 "nbformat": 4,
 "nbformat_minor": 2
}
