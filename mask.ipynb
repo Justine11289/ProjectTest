{
 "cells": [
  {
   "cell_type": "code",
   "execution_count": 1,
   "metadata": {},
   "outputs": [
    {
     "name": "stderr",
     "output_type": "stream",
     "text": [
      "c:\\Users\\Justine Huang\\AppData\\Local\\Programs\\Python\\Python310\\lib\\site-packages\\torchvision\\models\\detection\\anchor_utils.py:63: UserWarning: Failed to initialize NumPy: module compiled against API version 0x10 but this version of numpy is 0xf (Triggered internally at  ..\\torch\\csrc\\utils\\tensor_numpy.cpp:68.)\n",
      "  device: torch.device = torch.device(\"cpu\"),\n"
     ]
    }
   ],
   "source": [
    "import os\n",
    "import gc\n",
    "from monai.transforms import LoadImaged, EnsureChannelFirstd, ResampleToMatchd, Orientationd, Compose\n",
    "import monai\n",
    "import numpy as np\n",
    "from tqdm import tqdm\n",
    "import multiprocessing\n",
    "from ipywidgets import interactive, widgets, fixed\n",
    "from matplotlib import animation, rc; rc('animation', html='jshtml')\n",
    "import matplotlib.pyplot as plt\n",
    "%matplotlib inline"
   ]
  },
  {
   "cell_type": "code",
   "execution_count": 17,
   "metadata": {},
   "outputs": [],
   "source": [
    "image_dir = \"D:/Shiny_icarus/Original/\"\n",
    "mask_dir = \"D:/Shiny_icarus/Label/\"\n",
    "mask_list = os.listdir(mask_dir)\n",
    "image_list = os.listdir(image_dir)"
   ]
  },
  {
   "cell_type": "code",
   "execution_count": 18,
   "metadata": {},
   "outputs": [],
   "source": [
    "transform = Compose(\n",
    "    [\n",
    "        LoadImaged(reader=(\"nibabelreader\", \"nibabelreader\"), keys=[\"image\", \"seg\"]),\n",
    "        EnsureChannelFirstd(keys=[\"image\", \"seg\"]),\n",
    "        # unify the orientations of image and mask\n",
    "        Orientationd(keys=[\"image\", \"seg\"], axcodes=\"RAS\"),\n",
    "    ]\n",
    ")"
   ]
  },
  {
   "cell_type": "code",
   "execution_count": 19,
   "metadata": {},
   "outputs": [],
   "source": [
    "def create_animation(img, seg, seg_rev=False, fps=10):\n",
    "\n",
    "    images = img\n",
    "    segs = seg\n",
    "    \n",
    "    if seg_rev:\n",
    "        segs = segs[::-1]\n",
    "    ims_sgs = [np.concatenate([images[i], segs[i]], axis=1) for i in range(len(images))]\n",
    "    \n",
    "    # Stack images\n",
    "    animation_arr = np.stack(ims_sgs, axis=0)\n",
    "    \n",
    "    del images, ims_sgs\n",
    "    gc.collect()\n",
    "    \n",
    "    # Initialise plot\n",
    "    fig = plt.figure(figsize=(5,5), dpi=160)  # if size is too big then gif gets truncated\n",
    "    im = plt.imshow(animation_arr[0], cmap='bone')\n",
    "    plt.axis('off')\n",
    "    \n",
    "    # Load next frame\n",
    "    def animate_func(i):\n",
    "        im.set_array(animation_arr[i])\n",
    "        return [im]\n",
    "    plt.close()\n",
    "    \n",
    "    # Animation function\n",
    "    anim = animation.FuncAnimation(fig, animate_func, frames = animation_arr.shape[0], interval = 1000//fps)\n",
    "    \n",
    "    return anim"
   ]
  },
  {
   "cell_type": "code",
   "execution_count": 21,
   "metadata": {},
   "outputs": [
    {
     "data": {
      "text/plain": [
       "'147_0000.nii.gz'"
      ]
     },
     "execution_count": 21,
     "metadata": {},
     "output_type": "execute_result"
    }
   ],
   "source": [
    "name1 = \"147_0000\"\n",
    "name2 = \"147_0001\"\n",
    "img_sample = f\"{name1}.nii.gz\"\n",
    "mask_sample = f\"{name2}.nii.gz\"\n",
    "img_sample\n",
    "# data = {\"image\": os.path.join(image_dir, img_sample), \"seg\": os.path.join(mask_dir, mask_sample)}\n",
    "# output = transform(data)\n",
    "\n",
    "# img = output[\"image\"].numpy().transpose([0, 3, 2, 1])[0]\n",
    "# seg = output[\"seg\"].numpy().transpose([0, 3, 2, 1])[0]\n",
    "\n",
    "# img = (img-np.min(img))/(np.max(img)-np.min(img)+1e-6)\n",
    "# img = (img*255).astype(np.uint8)\n",
    "\n",
    "# seg = np.where(seg>0, 255, 0).astype(np.uint8)\n",
    "\n",
    "\n",
    "# create_animation(img, seg, fps=30)"
   ]
  },
  {
   "cell_type": "code",
   "execution_count": null,
   "metadata": {},
   "outputs": [],
   "source": []
  }
 ],
 "metadata": {
  "kernelspec": {
   "display_name": "Python 3",
   "language": "python",
   "name": "python3"
  },
  "language_info": {
   "codemirror_mode": {
    "name": "ipython",
    "version": 3
   },
   "file_extension": ".py",
   "mimetype": "text/x-python",
   "name": "python",
   "nbconvert_exporter": "python",
   "pygments_lexer": "ipython3",
   "version": "3.10.9"
  },
  "orig_nbformat": 4
 },
 "nbformat": 4,
 "nbformat_minor": 2
}
