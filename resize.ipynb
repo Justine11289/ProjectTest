{
 "cells": [
  {
   "cell_type": "code",
   "execution_count": 2,
   "metadata": {},
   "outputs": [],
   "source": [
    "from PIL import Image\n",
    "import os"
   ]
  },
  {
   "cell_type": "code",
   "execution_count": 19,
   "metadata": {},
   "outputs": [],
   "source": [
    "img_path = 'D:/test/original/sub-0001.nii.gz/'\n",
    "classes = sorted(os.listdir(img_path))"
   ]
  },
  {
   "cell_type": "code",
   "execution_count": 18,
   "metadata": {},
   "outputs": [],
   "source": [
    "for input in classes:\n",
    "    # 打開原始圖像\n",
    "    img = img_path + input\n",
    "    image = Image.open(img)\n",
    "    width, height = image.size\n",
    "    # 調整圖像尺寸\n",
    "    resized_image = image.resize((256, 256))\n",
    "    width, height = resized_image.size"
   ]
  },
  {
   "cell_type": "code",
   "execution_count": null,
   "metadata": {},
   "outputs": [],
   "source": [
    "# 调整图像尺寸\n",
    "resized_image2 = resized_image.resize((512,512))\n",
    "# 显示调整后的图像\n",
    "resized_image2.show()\n",
    "width, height = resized_image2.size\n",
    "print(\"调整後影像尺寸：{}x{}\".format(width, height))"
   ]
  }
 ],
 "metadata": {
  "kernelspec": {
   "display_name": "Python 3",
   "language": "python",
   "name": "python3"
  },
  "language_info": {
   "codemirror_mode": {
    "name": "ipython",
    "version": 3
   },
   "file_extension": ".py",
   "mimetype": "text/x-python",
   "name": "python",
   "nbconvert_exporter": "python",
   "pygments_lexer": "ipython3",
   "version": "3.10.9"
  },
  "orig_nbformat": 4
 },
 "nbformat": 4,
 "nbformat_minor": 2
}
