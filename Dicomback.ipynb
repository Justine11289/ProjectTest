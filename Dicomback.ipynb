{
 "cells": [
  {
   "cell_type": "code",
   "execution_count": 1,
   "metadata": {},
   "outputs": [],
   "source": [
    "import pydicom\n",
    "import os\n",
    "import matplotlib.pyplot as plt\n",
    "%matplotlib inline\n",
    "import SimpleITK as sitk\n",
    "from PIL import Image\n",
    "import numpy as np\n",
    "import cv2\n",
    "import vtk"
   ]
  },
  {
   "cell_type": "code",
   "execution_count": 2,
   "metadata": {},
   "outputs": [],
   "source": [
    "path = \"D:/IACTA/task1/test/sub-0001.nii.gz\"\n",
    "files = os.listdir(path)\n",
    "slices = []\n",
    "for i in files:\n",
    "    ds = sitk.ReadImage(os.path.join(path,i))\n",
    "    img_array = sitk.GetArrayFromImage(ds)\n",
    "    img = np.asarray(Image.fromarray(img_array[0]))\n",
    "    slices.append(img)"
   ]
  },
  {
   "cell_type": "code",
   "execution_count": 3,
   "metadata": {},
   "outputs": [
    {
     "data": {
      "image/png": "[encoded data removed]",
      "text/plain": [
       "<Figure size 640x480 with 1 Axes>"
      ]
     },
     "metadata": {},
     "output_type": "display_data"
    }
   ],
   "source": [
    "plt.hist(np.array(slices).flatten(), bins=100)\n",
    "plt.show()"
   ]
  },
  {
   "cell_type": "code",
   "execution_count": null,
   "metadata": {},
   "outputs": [],
   "source": [
    "# def clip(image, hu_min, hu_max):\n",
    "#     image[image < hu_min] = hu_min\n",
    "#     image[image > hu_max] = hu_max\n",
    "#     return image\n",
    "    \n",
    "# for i,s in enumerate(slices):\n",
    "#     if(i%5==0):\n",
    "#         sample = np.array(s)\n",
    "#         sample = clip(sample, 70, 80) \n",
    "#         plt.imshow(sample, cmap='bone')\n",
    "#         plt.show()"
   ]
  },
  {
   "cell_type": "code",
   "execution_count": 6,
   "metadata": {},
   "outputs": [],
   "source": [
    "def dicom_to_nii(dcm_path,nii_path):\n",
    "    reader = sitk.ImageSeriesReader()\n",
    "    dcm_names = reader.GetGDCMSeriesFileNames(dcm_path)\n",
    "    reader.SetFileNames(dcm_names)\n",
    "    img = reader.Execute()\n",
    "\n",
    "    img_arr = sitk.GetArrayFromImage(img)\n",
    "    origin = img.GetOrigin()\n",
    "    spacing = img.GetSpacing()\n",
    "    direction = img.GetDirection()\n",
    "\n",
    "    img_nii = sitk.GetImageFromArray(img_arr)\n",
    "    img_nii.SetSpacing(spacing)\n",
    "    img_nii.SetDirection(direction)\n",
    "    img_nii.SetOrigin(origin)\n",
    "    sitk.WriteImage(img_nii,nii_path)"
   ]
  },
  {
   "cell_type": "code",
   "execution_count": 8,
   "metadata": {},
   "outputs": [],
   "source": [
    "dcm_path = \"D:/IACTA/task1/test/sub-0001.nii.gz/\"\n",
    "nii_path = \"D:/IACTA/task1/test/nii/sub-0001.nii.gz\"\n",
    "dicom_to_nii(dcm_path,nii_path)"
   ]
  }
 ],
 "metadata": {
  "kernelspec": {
   "display_name": "Python 3",
   "language": "python",
   "name": "python3"
  },
  "language_info": {
   "codemirror_mode": {
    "name": "ipython",
    "version": 3
   },
   "file_extension": ".py",
   "mimetype": "text/x-python",
   "name": "python",
   "nbconvert_exporter": "python",
   "pygments_lexer": "ipython3",
   "version": "3.10.9"
  },
  "orig_nbformat": 4
 },
 "nbformat": 4,
 "nbformat_minor": 2
}
