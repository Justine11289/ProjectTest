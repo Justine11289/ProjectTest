{
 "cells": [
  {
   "cell_type": "code",
   "execution_count": 1,
   "metadata": {},
   "outputs": [
    {
     "name": "stdout",
     "output_type": "stream",
     "text": [
      "Jupyter environment detected. Enabling Open3D WebVisualizer.\n",
      "[Open3D INFO] WebRTC GUI backend enabled.\n",
      "[Open3D INFO] WebRTCWindowSystem: HTTP handshake server disabled.\n"
     ]
    }
   ],
   "source": [
    "import numpy as np\n",
    "import open3d as o3d\n",
    "import pandas as pd\n",
    "from sklearn.linear_model import LinearRegression\n",
    "import matplotlib.pyplot as plt\n",
    "from tabulate import tabulate"
   ]
  },
  {
   "attachments": {},
   "cell_type": "markdown",
   "metadata": {},
   "source": [
    "切片"
   ]
  },
  {
   "cell_type": "code",
   "execution_count": 11,
   "metadata": {},
   "outputs": [],
   "source": [
    "def slice_pts(pts_file, slice_distance):\n",
    "    # Read the PTS file\n",
    "    points = np.loadtxt(pts_file)\n",
    "\n",
    "    # Split points into coordinates and colors\n",
    "    coordinates = points[:, :3]\n",
    "\n",
    "    # Get the minimum and maximum Z coordinates of the point cloud\n",
    "    min_z = np.min(coordinates[:, 2])\n",
    "    max_z = np.max(coordinates[:, 2])\n",
    "\n",
    "    # Calculate the number of slices\n",
    "    num_slices = int((max_z - min_z) / slice_distance)\n",
    "\n",
    "    # Create a list to store sliced point clouds\n",
    "    sliced_point_clouds = []\n",
    "\n",
    "    # Slice the point cloud based on the slice distance\n",
    "    for i in range(num_slices+1):\n",
    "        # Calculate the height range of the slice\n",
    "        z_min = min_z + i * slice_distance\n",
    "        z_max = z_min + slice_distance\n",
    "\n",
    "        # Extract points within the slice range\n",
    "        sliced_coordinates = coordinates[(coordinates[:, 2] >= z_min) & (coordinates[:, 2] < z_max)]\n",
    "\n",
    "        # Create a sliced point cloud\n",
    "        sliced_point_cloud = o3d.geometry.PointCloud()\n",
    "        sliced_point_cloud.points = o3d.utility.Vector3dVector(sliced_coordinates)\n",
    "\n",
    "        # Add the sliced point cloud to the list\n",
    "        sliced_point_clouds.append(sliced_point_cloud)\n",
    "\n",
    "    return sliced_point_clouds\n"
   ]
  },
  {
   "cell_type": "code",
   "execution_count": 12,
   "metadata": {},
   "outputs": [],
   "source": [
    "# 讀pts檔\n",
    "pts_file = 'C:/Users/Justine Huang/Python/147_0000.pts'\n",
    "# 切片距離\n",
    "slice_distance = 10\n",
    "# 切片\n",
    "sliced_point_clouds = slice_pts(pts_file, slice_distance)\n",
    "# print(len(sliced_point_clouds))\n",
    "# 分別存取切片\n",
    "for i, sliced_point_cloud in enumerate(sliced_point_clouds):\n",
    "    output_file = f'slice20_{i}.pts'\n",
    "    np.savetxt(output_file, np.asarray(sliced_point_cloud.points))"
   ]
  },
  {
   "attachments": {},
   "cell_type": "markdown",
   "metadata": {},
   "source": [
    "算點數"
   ]
  },
  {
   "cell_type": "code",
   "execution_count": 13,
   "metadata": {},
   "outputs": [
    {
     "name": "stdout",
     "output_type": "stream",
     "text": [
      "點數: 8000\n"
     ]
    }
   ],
   "source": [
    "num_points = 0\n",
    "for i, sliced_point_cloud in enumerate(sliced_point_clouds):\n",
    "    points = np.loadtxt(f'C:/Users/Justine Huang/Python/slice20_{i}.pts')\n",
    "    # 計算點數\n",
    "    num_points += len(points)\n",
    "print(\"點數:\", num_points)"
   ]
  },
  {
   "attachments": {},
   "cell_type": "markdown",
   "metadata": {},
   "source": [
    "算密度"
   ]
  },
  {
   "cell_type": "code",
   "execution_count": null,
   "metadata": {},
   "outputs": [],
   "source": [
    "min_coords = np.min(points[:, :3], axis=0)  # 找xyz最小值\n",
    "max_coords = np.max(points[:, :3], axis=0)  # 找xyz最大值\n",
    "bounding_box_size = max_coords - min_coords\n",
    "volume = np.prod(bounding_box_size) # 算出體積\n",
    "\n",
    "density = num_points / volume\n",
    "\n",
    "print(\"密度:\", density)"
   ]
  },
  {
   "attachments": {},
   "cell_type": "markdown",
   "metadata": {},
   "source": [
    "點順序"
   ]
  },
  {
   "cell_type": "code",
   "execution_count": null,
   "metadata": {},
   "outputs": [],
   "source": [
    "# 以Z軸最小的點為起點\n",
    "min_z_index = np.argmin(points[:, 2])\n",
    "start_index = min_z_index\n",
    "start_point = points[start_index, :3]\n",
    "print(\"起點:\",start_point)\n",
    "\n",
    "# 計算每點相對於起點的角度\n",
    "def angle(point):\n",
    "    angle_rad = 2 * np.pi - np.arctan2(point[1] - start_point[1], point[0] - start_point[0])\n",
    "    angle_deg = np.degrees(angle_rad)\n",
    "    angle_adjusted = angle_deg % 360.0\n",
    "    return angle_adjusted\n",
    "\n",
    "angles = np.array([angle(point) for point in points[:, :3]])\n",
    "\n",
    "# 排序點和角度\n",
    "sorted_indices = np.argsort(angles)\n",
    "sorted_points = points[sorted_indices]\n",
    "sorted_angles = angles[sorted_indices]\n",
    "\n",
    "# 計算距離\n",
    "distances = np.linalg.norm(sorted_points[1:, :3] - sorted_points[:-1, :3], axis=1)\n",
    "distances = np.insert(distances, 0, 0) \n",
    "average_distance = np.mean(distances)\n",
    "max_distance = np.max(distances)\n",
    "print(f\"平均距離:{average_distance}, 最遠距離:{max_distance}\")\n",
    "dis_dif = distances - average_distance\n",
    "\n",
    "data = []\n",
    "for i in range(num_points):\n",
    "    point = sorted_points[i, :3]\n",
    "    angle = sorted_angles[i]\n",
    "    distance = distances[i]\n",
    "    dif = dis_dif[i]\n",
    "    if i == 0:\n",
    "        distance = 0\n",
    "        dif = 0\n",
    "    data.append([point, angle, distance, dif])\n",
    "\n",
    "columns = [\"座標\",\"角度\",\"距離\",\"與平均距離差距\"]\n",
    "df = pd.DataFrame(data, columns=columns)\n",
    "\n",
    "# Print the aligned DataFrame using tabulate\n",
    "table = tabulate(df, headers='keys', tablefmt='plain', stralign='left', showindex=True)\n",
    "print(table)"
   ]
  },
  {
   "cell_type": "code",
   "execution_count": null,
   "metadata": {},
   "outputs": [],
   "source": []
  }
 ],
 "metadata": {
  "kernelspec": {
   "display_name": "Python 3",
   "language": "python",
   "name": "python3"
  },
  "language_info": {
   "codemirror_mode": {
    "name": "ipython",
    "version": 3
   },
   "file_extension": ".py",
   "mimetype": "text/x-python",
   "name": "python",
   "nbconvert_exporter": "python",
   "pygments_lexer": "ipython3",
   "version": "3.10.9"
  },
  "orig_nbformat": 4
 },
 "nbformat": 4,
 "nbformat_minor": 2
}
