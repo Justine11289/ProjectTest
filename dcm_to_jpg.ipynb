{
 "cells": [
  {
   "cell_type": "code",
   "execution_count": 1,
   "metadata": {},
   "outputs": [],
   "source": [
    "import pydicom # 用来解析dicom格式图像的像素值\n",
    "import numpy as np\n",
    "import cv2 # 用于保存图片\n",
    "import os"
   ]
  },
  {
   "cell_type": "code",
   "execution_count": 2,
   "metadata": {},
   "outputs": [],
   "source": [
    "# 定义dicom to jpg转换函数\n",
    "def convert_from_dicom_to_jpg(img, low_window, high_window):\n",
    "    \"\"\"\n",
    "    :param img: dicom图像的像素值信息\n",
    "    :param low_window: dicom图像像素值的最低值\n",
    "    :param high_window: dicom图像像素值的最高值\n",
    "\n",
    "    :return:\n",
    "    \"\"\"\n",
    "    win = np.array([low_window * 1., high_window * 1.]) # 将pydicom解析的像素值转换为array\n",
    "    newimg = (img - win[0]) / (win[1] - win[0])\n",
    "    newimg = (newimg * 255).astype('uint8') # 再转换至0-255，且将编码方式由原来的unit16转换为unit8\n",
    "    # 用cv2写入图像指令，保存jpg即可\n",
    "    return newimg"
   ]
  },
  {
   "cell_type": "code",
   "execution_count": 4,
   "metadata": {},
   "outputs": [],
   "source": [
    "path = 'D:/test/original/sub-0901.nii.gz' # dicom文件夹路径\n",
    "filename = os.listdir(path) # 打开文件夹中的图像的文件名，作为列表返回\n",
    "# print(filename) # 可查看一下文件夹下有哪些文件\n",
    "count = len(filename) # 设置了一个变量用来作为保存后jpg图像的名称的，可自行修改其他的"
   ]
  },
  {
   "cell_type": "code",
   "execution_count": 5,
   "metadata": {},
   "outputs": [],
   "source": [
    "for f in filename:\n",
    "    name = path + \"/\" + f\n",
    "    ds = pydicom.dcmread(name) # 解析一张dicom图片\n",
    "    img_array = ds.pixel_array # 将像素值信息提取\n",
    "    shape = img_array.shape  # name.shape\n",
    "    high = np.max(img_array) # 找到最大的\n",
    "    low = np.min(img_array)# 找到最小的\n",
    "    # 调用函数，开始转换\n",
    "    pname = path.split(\"/\")[-1] # 先用split方法切割路徑，[-1]代表取最後一個元素，也就是檔案名稱\n",
    "    pname = pname[:-7] # 再用切片方法切掉檔案名稱中的\".nii.gz\"字串\n",
    "    slice = f[:-4]\n",
    "    # fname = path + \"/\"+ pname + \"_\" + slice +\"_mask\"+ \".jpg\"\n",
    "    fname = path + \"/\"+ pname + \"_\" + slice + \".jpg\"\n",
    "    cv2.imwrite(fname,convert_from_dicom_to_jpg(img_array, low, high))"
   ]
  },
  {
   "cell_type": "code",
   "execution_count": null,
   "metadata": {},
   "outputs": [],
   "source": []
  }
 ],
 "metadata": {
  "kernelspec": {
   "display_name": "Python 3",
   "language": "python",
   "name": "python3"
  },
  "language_info": {
   "codemirror_mode": {
    "name": "ipython",
    "version": 3
   },
   "file_extension": ".py",
   "mimetype": "text/x-python",
   "name": "python",
   "nbconvert_exporter": "python",
   "pygments_lexer": "ipython3",
   "version": "3.10.9"
  },
  "orig_nbformat": 4
 },
 "nbformat": 4,
 "nbformat_minor": 2
}
